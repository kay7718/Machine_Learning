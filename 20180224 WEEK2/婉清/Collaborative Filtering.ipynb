{
 "cells": [
  {
   "cell_type": "markdown",
   "metadata": {},
   "source": [
    "網址：https://www.kaggle.com/anokas/collaborative-filtering-btb-lb-0-01691/code\n",
    "\n",
    "1. Collaborative Filtering based model\n",
    "    - 利用相似性做推薦\n",
    "    - 用人還是用物品\n",
    "    - User-Based\n",
    "2. LogisticRegression classifier\n",
    "    - to predict each product from the existing products a user has, essentially expressing each product as a linear combination of the other products. I then use this to generate probabilities for the test set, and select the top 7 most likely products that people haven't already purchased in the training set.\n",
    "\n",
    "3. This is a very simple model, since it models only on the existing products that a user has, and no other attributes.\n",
    "\n",
    "4. The score could pretty easily be raised by adding more features"
   ]
  },
  {
   "cell_type": "code",
   "execution_count": 1,
   "metadata": {
    "collapsed": true
   },
   "outputs": [],
   "source": [
    "import numpy as np\n",
    "import pandas as pd\n",
    "from sklearn.metrics import roc_auc_score\n",
    "from sklearn.linear_model import LogisticRegression\n",
    "from collections import defaultdict"
   ]
  },
  {
   "cell_type": "code",
   "execution_count": 2,
   "metadata": {
    "collapsed": true
   },
   "outputs": [],
   "source": [
    "usecols = ['ncodpers', 'ind_ahor_fin_ult1', 'ind_aval_fin_ult1', 'ind_cco_fin_ult1',\n",
    "       'ind_cder_fin_ult1', 'ind_cno_fin_ult1', 'ind_ctju_fin_ult1',\n",
    "       'ind_ctma_fin_ult1', 'ind_ctop_fin_ult1', 'ind_ctpp_fin_ult1',\n",
    "       'ind_deco_fin_ult1', 'ind_deme_fin_ult1', 'ind_dela_fin_ult1',\n",
    "       'ind_ecue_fin_ult1', 'ind_fond_fin_ult1', 'ind_hip_fin_ult1',\n",
    "       'ind_plan_fin_ult1', 'ind_pres_fin_ult1', 'ind_reca_fin_ult1',\n",
    "       'ind_tjcr_fin_ult1', 'ind_valo_fin_ult1', 'ind_viv_fin_ult1',\n",
    "       'ind_nomina_ult1', 'ind_nom_pens_ult1', 'ind_recibo_ult1']\n",
    "# 顧客id 所有產品       \n",
    "df_train = pd.read_csv('train_ver2.csv', usecols=usecols)\n",
    "sample = pd.read_csv('sample_submission.csv')"
   ]
  },
  {
   "cell_type": "code",
   "execution_count": 3,
   "metadata": {},
   "outputs": [
    {
     "data": {
      "text/plain": [
       "(13647309, 25)"
      ]
     },
     "execution_count": 3,
     "metadata": {},
     "output_type": "execute_result"
    }
   ],
   "source": [
    "df_train.shape\n",
    "# 1千3百多萬位顧客(未distinct)"
   ]
  },
  {
   "cell_type": "code",
   "execution_count": 5,
   "metadata": {},
   "outputs": [
    {
     "data": {
      "text/html": [
       "<div>\n",
       "<style>\n",
       "    .dataframe thead tr:only-child th {\n",
       "        text-align: right;\n",
       "    }\n",
       "\n",
       "    .dataframe thead th {\n",
       "        text-align: left;\n",
       "    }\n",
       "\n",
       "    .dataframe tbody tr th {\n",
       "        vertical-align: top;\n",
       "    }\n",
       "</style>\n",
       "<table border=\"1\" class=\"dataframe\">\n",
       "  <thead>\n",
       "    <tr style=\"text-align: right;\">\n",
       "      <th></th>\n",
       "      <th>ncodpers</th>\n",
       "      <th>ind_ahor_fin_ult1</th>\n",
       "      <th>ind_aval_fin_ult1</th>\n",
       "      <th>ind_cco_fin_ult1</th>\n",
       "      <th>ind_cder_fin_ult1</th>\n",
       "      <th>ind_cno_fin_ult1</th>\n",
       "      <th>ind_ctju_fin_ult1</th>\n",
       "      <th>ind_ctma_fin_ult1</th>\n",
       "      <th>ind_ctop_fin_ult1</th>\n",
       "      <th>ind_ctpp_fin_ult1</th>\n",
       "      <th>...</th>\n",
       "      <th>ind_hip_fin_ult1</th>\n",
       "      <th>ind_plan_fin_ult1</th>\n",
       "      <th>ind_pres_fin_ult1</th>\n",
       "      <th>ind_reca_fin_ult1</th>\n",
       "      <th>ind_tjcr_fin_ult1</th>\n",
       "      <th>ind_valo_fin_ult1</th>\n",
       "      <th>ind_viv_fin_ult1</th>\n",
       "      <th>ind_nomina_ult1</th>\n",
       "      <th>ind_nom_pens_ult1</th>\n",
       "      <th>ind_recibo_ult1</th>\n",
       "    </tr>\n",
       "  </thead>\n",
       "  <tbody>\n",
       "    <tr>\n",
       "      <th>0</th>\n",
       "      <td>1375586</td>\n",
       "      <td>0</td>\n",
       "      <td>0</td>\n",
       "      <td>1</td>\n",
       "      <td>0</td>\n",
       "      <td>0</td>\n",
       "      <td>0</td>\n",
       "      <td>0</td>\n",
       "      <td>0</td>\n",
       "      <td>0</td>\n",
       "      <td>...</td>\n",
       "      <td>0</td>\n",
       "      <td>0</td>\n",
       "      <td>0</td>\n",
       "      <td>0</td>\n",
       "      <td>0</td>\n",
       "      <td>0</td>\n",
       "      <td>0</td>\n",
       "      <td>0.0</td>\n",
       "      <td>0.0</td>\n",
       "      <td>0</td>\n",
       "    </tr>\n",
       "    <tr>\n",
       "      <th>1</th>\n",
       "      <td>1050611</td>\n",
       "      <td>0</td>\n",
       "      <td>0</td>\n",
       "      <td>1</td>\n",
       "      <td>0</td>\n",
       "      <td>0</td>\n",
       "      <td>0</td>\n",
       "      <td>0</td>\n",
       "      <td>0</td>\n",
       "      <td>0</td>\n",
       "      <td>...</td>\n",
       "      <td>0</td>\n",
       "      <td>0</td>\n",
       "      <td>0</td>\n",
       "      <td>0</td>\n",
       "      <td>0</td>\n",
       "      <td>0</td>\n",
       "      <td>0</td>\n",
       "      <td>0.0</td>\n",
       "      <td>0.0</td>\n",
       "      <td>0</td>\n",
       "    </tr>\n",
       "    <tr>\n",
       "      <th>2</th>\n",
       "      <td>1050612</td>\n",
       "      <td>0</td>\n",
       "      <td>0</td>\n",
       "      <td>1</td>\n",
       "      <td>0</td>\n",
       "      <td>0</td>\n",
       "      <td>0</td>\n",
       "      <td>0</td>\n",
       "      <td>0</td>\n",
       "      <td>0</td>\n",
       "      <td>...</td>\n",
       "      <td>0</td>\n",
       "      <td>0</td>\n",
       "      <td>0</td>\n",
       "      <td>0</td>\n",
       "      <td>0</td>\n",
       "      <td>0</td>\n",
       "      <td>0</td>\n",
       "      <td>0.0</td>\n",
       "      <td>0.0</td>\n",
       "      <td>0</td>\n",
       "    </tr>\n",
       "    <tr>\n",
       "      <th>3</th>\n",
       "      <td>1050613</td>\n",
       "      <td>0</td>\n",
       "      <td>0</td>\n",
       "      <td>0</td>\n",
       "      <td>0</td>\n",
       "      <td>0</td>\n",
       "      <td>0</td>\n",
       "      <td>0</td>\n",
       "      <td>0</td>\n",
       "      <td>0</td>\n",
       "      <td>...</td>\n",
       "      <td>0</td>\n",
       "      <td>0</td>\n",
       "      <td>0</td>\n",
       "      <td>0</td>\n",
       "      <td>0</td>\n",
       "      <td>0</td>\n",
       "      <td>0</td>\n",
       "      <td>0.0</td>\n",
       "      <td>0.0</td>\n",
       "      <td>0</td>\n",
       "    </tr>\n",
       "    <tr>\n",
       "      <th>4</th>\n",
       "      <td>1050614</td>\n",
       "      <td>0</td>\n",
       "      <td>0</td>\n",
       "      <td>1</td>\n",
       "      <td>0</td>\n",
       "      <td>0</td>\n",
       "      <td>0</td>\n",
       "      <td>0</td>\n",
       "      <td>0</td>\n",
       "      <td>0</td>\n",
       "      <td>...</td>\n",
       "      <td>0</td>\n",
       "      <td>0</td>\n",
       "      <td>0</td>\n",
       "      <td>0</td>\n",
       "      <td>0</td>\n",
       "      <td>0</td>\n",
       "      <td>0</td>\n",
       "      <td>0.0</td>\n",
       "      <td>0.0</td>\n",
       "      <td>0</td>\n",
       "    </tr>\n",
       "  </tbody>\n",
       "</table>\n",
       "<p>5 rows × 25 columns</p>\n",
       "</div>"
      ],
      "text/plain": [
       "   ncodpers  ind_ahor_fin_ult1  ind_aval_fin_ult1  ind_cco_fin_ult1  \\\n",
       "0   1375586                  0                  0                 1   \n",
       "1   1050611                  0                  0                 1   \n",
       "2   1050612                  0                  0                 1   \n",
       "3   1050613                  0                  0                 0   \n",
       "4   1050614                  0                  0                 1   \n",
       "\n",
       "   ind_cder_fin_ult1  ind_cno_fin_ult1  ind_ctju_fin_ult1  ind_ctma_fin_ult1  \\\n",
       "0                  0                 0                  0                  0   \n",
       "1                  0                 0                  0                  0   \n",
       "2                  0                 0                  0                  0   \n",
       "3                  0                 0                  0                  0   \n",
       "4                  0                 0                  0                  0   \n",
       "\n",
       "   ind_ctop_fin_ult1  ind_ctpp_fin_ult1       ...         ind_hip_fin_ult1  \\\n",
       "0                  0                  0       ...                        0   \n",
       "1                  0                  0       ...                        0   \n",
       "2                  0                  0       ...                        0   \n",
       "3                  0                  0       ...                        0   \n",
       "4                  0                  0       ...                        0   \n",
       "\n",
       "   ind_plan_fin_ult1  ind_pres_fin_ult1  ind_reca_fin_ult1  ind_tjcr_fin_ult1  \\\n",
       "0                  0                  0                  0                  0   \n",
       "1                  0                  0                  0                  0   \n",
       "2                  0                  0                  0                  0   \n",
       "3                  0                  0                  0                  0   \n",
       "4                  0                  0                  0                  0   \n",
       "\n",
       "   ind_valo_fin_ult1  ind_viv_fin_ult1  ind_nomina_ult1  ind_nom_pens_ult1  \\\n",
       "0                  0                 0              0.0                0.0   \n",
       "1                  0                 0              0.0                0.0   \n",
       "2                  0                 0              0.0                0.0   \n",
       "3                  0                 0              0.0                0.0   \n",
       "4                  0                 0              0.0                0.0   \n",
       "\n",
       "   ind_recibo_ult1  \n",
       "0                0  \n",
       "1                0  \n",
       "2                0  \n",
       "3                0  \n",
       "4                0  \n",
       "\n",
       "[5 rows x 25 columns]"
      ]
     },
     "execution_count": 5,
     "metadata": {},
     "output_type": "execute_result"
    }
   ],
   "source": [
    "df_train.head()"
   ]
  },
  {
   "cell_type": "code",
   "execution_count": 6,
   "metadata": {},
   "outputs": [
    {
     "name": "stderr",
     "output_type": "stream",
     "text": [
      "/usr/local/lib/python3.6/site-packages/pandas/core/frame.py:2754: SettingWithCopyWarning: \n",
      "A value is trying to be set on a copy of a slice from a DataFrame\n",
      "\n",
      "See the caveats in the documentation: http://pandas.pydata.org/pandas-docs/stable/indexing.html#indexing-view-versus-copy\n",
      "  downcast=downcast, **kwargs)\n"
     ]
    }
   ],
   "source": [
    "df_train = df_train.drop_duplicates(['ncodpers'], keep='last')\n",
    "df_train.shape\n",
    "# 95萬位顧客(去重複、並取最新一筆)\n",
    "\n",
    "df_train.fillna(0, inplace=True)\n",
    "#NaN以0取代\n",
    "#對於不知道就當作沒有持有產品 補零"
   ]
  },
  {
   "cell_type": "code",
   "execution_count": 7,
   "metadata": {
    "collapsed": true
   },
   "outputs": [],
   "source": [
    "#設置待會用到的東西\n",
    "models = {}\n",
    "model_preds = {}\n",
    "id_preds = defaultdict(list)\n",
    "ids = df_train['ncodpers'].values"
   ]
  },
  {
   "cell_type": "code",
   "execution_count": 8,
   "metadata": {},
   "outputs": [
    {
     "name": "stdout",
     "output_type": "stream",
     "text": [
      "ind_ahor_fin_ult1\n",
      "****** column *******\n",
      "0.792150558543\n",
      "ind_aval_fin_ult1\n",
      "****** column *******\n",
      "0.979471273608\n",
      "ind_cco_fin_ult1\n",
      "****** column *******\n",
      "0.650168684648\n",
      "ind_cder_fin_ult1\n",
      "****** column *******\n",
      "0.788947355732\n",
      "ind_cno_fin_ult1\n",
      "****** column *******\n",
      "0.971472644205\n",
      "ind_ctju_fin_ult1\n",
      "****** column *******\n",
      "0.865553342852\n",
      "ind_ctma_fin_ult1\n",
      "****** column *******\n",
      "0.661593708983\n",
      "ind_ctop_fin_ult1\n",
      "****** column *******\n",
      "0.612791828474\n",
      "ind_ctpp_fin_ult1\n",
      "****** column *******\n",
      "0.722375922208\n",
      "ind_deco_fin_ult1\n",
      "****** column *******\n",
      "0.888840308649\n",
      "ind_deme_fin_ult1\n",
      "****** column *******\n",
      "0.867520840878\n",
      "ind_dela_fin_ult1\n",
      "****** column *******\n",
      "0.781944317185\n",
      "ind_ecue_fin_ult1\n",
      "****** column *******\n",
      "0.775343267456\n",
      "ind_fond_fin_ult1\n",
      "****** column *******\n",
      "0.856575049545\n",
      "ind_hip_fin_ult1\n",
      "****** column *******\n",
      "0.918093547734\n",
      "ind_plan_fin_ult1\n",
      "****** column *******\n",
      "0.848119443503\n",
      "ind_pres_fin_ult1\n",
      "****** column *******\n",
      "0.709739096492\n",
      "ind_reca_fin_ult1\n",
      "****** column *******\n",
      "0.834413130255\n",
      "ind_tjcr_fin_ult1\n",
      "****** column *******\n",
      "0.905159063608\n",
      "ind_valo_fin_ult1\n",
      "****** column *******\n",
      "0.840802407536\n",
      "ind_viv_fin_ult1\n",
      "****** column *******\n",
      "0.7679654036\n",
      "ind_nomina_ult1\n",
      "****** column *******\n",
      "0.998180018526\n",
      "ind_nom_pens_ult1\n",
      "****** column *******\n",
      "0.998311131002\n",
      "ind_recibo_ult1\n",
      "****** column *******\n",
      "0.867506546047\n"
     ]
    }
   ],
   "source": [
    "for c in df_train.columns:\n",
    "    \n",
    "    if c != 'ncodpers':\n",
    "        print(c)\n",
    "        print(\"****** column *******\")\n",
    "\n",
    "        y_train = df_train[c]\n",
    "        x_train = df_train.drop([c, 'ncodpers'], 1)\n",
    "        clf = LogisticRegression()\n",
    "        clf.fit(x_train, y_train)\n",
    "        \n",
    "        # 每個row選擇第2欄\n",
    "        p_train = clf.predict_proba(x_train)[:,1]\n",
    "\n",
    "        models[c] = clf #產品：模型\n",
    "        model_preds[c] = p_train #產品:機率\n",
    "\n",
    "        for id, p in zip(ids, p_train):\n",
    "            id_preds[id].append(p)\n",
    "        print(roc_auc_score(y_train, p_train))"
   ]
  },
  {
   "cell_type": "code",
   "execution_count": 13,
   "metadata": {},
   "outputs": [],
   "source": [
    "already_active = {}\n",
    "for row in df_train.values:\n",
    "    row = list(row)\n",
    "    id = row.pop(0)\n",
    "    #移除list中給定位置的項目>>>>移除ncodpers\n",
    "    \n",
    "    #選出每個顧客已經擁有的產品\n",
    "    active = [c[0] for c in zip(df_train.columns[1:], row) if c[1] > 0]\n",
    "    already_active[id] = active"
   ]
  },
  {
   "cell_type": "code",
   "execution_count": 25,
   "metadata": {},
   "outputs": [
    {
     "name": "stdout",
     "output_type": "stream",
     "text": [
      "['ind_cco_fin_ult1', 'ind_recibo_ult1']\n"
     ]
    }
   ],
   "source": [
    "# id = 1375586\n",
    "print(already_active[1375586])"
   ]
  },
  {
   "cell_type": "code",
   "execution_count": 31,
   "metadata": {},
   "outputs": [
    {
     "name": "stdout",
     "output_type": "stream",
     "text": [
      "[4.2596560878065235e-05, 2.3572440973085176e-05, 0.92711565085862091, 0.00025642109982110527, 0.0092611805653184821, 1.1748493143428829e-06, 0.016360644691956836, 0.10944882954982063, 0.055201350688515526, 0.00015803611735271158, 0.00053592831449668398, 0.018302861379988978, 0.12154223427738729, 0.0083740260218876251, 0.013146299528762661, 0.0062412048556186785, 0.0013280384515513286, 0.090503270396081401, 0.049401971574750077, 0.023666775372114458, 0.0020094198375437688, 3.7254623456581045e-05, 0.00084906668685975103, 0.074965022270822884]\n"
     ]
    }
   ],
   "source": [
    "print(id_preds[1375586])"
   ]
  },
  {
   "cell_type": "code",
   "execution_count": 9,
   "metadata": {
    "collapsed": true
   },
   "outputs": [],
   "source": [
    "train_preds = {}\n",
    "for id, p in id_preds.items():\n",
    "    # 挑選每位顧客前7名的產品，並排除顧客已經擁有的產品\n",
    "    preds = [i[0] for i in sorted([i for i in zip(df_train.columns[1:], p) if i[0] not in already_active[id]], key=lambda i:i [1], reverse=True)[:7]]\n",
    "    train_preds[id] = preds"
   ]
  },
  {
   "cell_type": "code",
   "execution_count": 10,
   "metadata": {
    "collapsed": true
   },
   "outputs": [],
   "source": [
    "test_preds = []\n",
    "for row in sample.values:\n",
    "    # sample data的id\n",
    "    id = row[0]\n",
    "    # 找出train好的顧客，並處理成等等要匯出csv的樣子\n",
    "    p = train_preds[id]\n",
    "    test_preds.append(' '.join(p))"
   ]
  },
  {
   "cell_type": "code",
   "execution_count": 11,
   "metadata": {
    "collapsed": true
   },
   "outputs": [],
   "source": [
    "sample['added_products'] = test_preds\n",
    "sample.to_csv('collab_sub.csv', index=False)"
   ]
  },
  {
   "cell_type": "code",
   "execution_count": null,
   "metadata": {
    "collapsed": true
   },
   "outputs": [],
   "source": []
  }
 ],
 "metadata": {
  "kernelspec": {
   "display_name": "Python 3",
   "language": "python",
   "name": "python3"
  },
  "language_info": {
   "codemirror_mode": {
    "name": "ipython",
    "version": 3
   },
   "file_extension": ".py",
   "mimetype": "text/x-python",
   "name": "python",
   "nbconvert_exporter": "python",
   "pygments_lexer": "ipython3",
   "version": "3.6.3"
  }
 },
 "nbformat": 4,
 "nbformat_minor": 2
}
