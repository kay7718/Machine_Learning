{
 "cells": [
  {
   "cell_type": "markdown",
   "metadata": {},
   "source": [
    "# Reinforcement Learning"
   ]
  },
  {
   "cell_type": "markdown",
   "metadata": {},
   "source": [
    "#### 強化學習(Reinforcement Learning)是人工智慧中策略學習的一種，透過觀測環境，並從環境中獲得最高的報酬率，方式有兩種：\n",
    "#### Upper Confidence Bound (UCB)。\n",
    "#### Thompson Sampling。\n"
   ]
  },
  {
   "cell_type": "markdown",
   "metadata": {},
   "source": [
    "# Thompson Sampling Intuition\n",
    "#### 1.是一種online decision algorithm，一般較常使用於對新用戶投放廣告的選擇(推薦系統)。\n",
    "#### 2.根據歷史情況修正分佈的參數，而需要選擇的時候則對每個廣告的分布進行採樣，根據採樣結果排序來選擇廣告，保持較好的隨機性。\n",
    "#### 3.步驟說明。\n",
    "#### (1)透過試驗歸算出廣告背後的機率分佈。\n",
    "#### (2)假設此機率分佈符合beta(wins,lose)分佈。\n",
    "#### (3)透過廣告現有的beta分佈產生隨機數。\n",
    "#### (4)選最大隨機數的那個廣告投放。"
   ]
  },
  {
   "cell_type": "markdown",
   "metadata": {},
   "source": [
    "![](images/Thompson1.png)\n"
   ]
  },
  {
   "cell_type": "markdown",
   "metadata": {},
   "source": [
    "# Thompson Sampling\n",
    "#### 範例中共有藍,綠,紅共三台機器，但我們並不知道實際上最佳化的回報率為多少，因此假設最佳化位置為中間桿子，依照取樣結果可得到每台機器的概率分佈。\n"
   ]
  },
  {
   "cell_type": "markdown",
   "metadata": {
    "collapsed": true
   },
   "source": [
    "![](images/Thompson2.png)"
   ]
  },
  {
   "cell_type": "markdown",
   "metadata": {},
   "source": [
    "#### 從三項回報率中，選出最高的結果，從圖中可觀察為最右邊的綠色Ｘ。"
   ]
  },
  {
   "cell_type": "markdown",
   "metadata": {},
   "source": [
    "![](images/Thompson3.png)"
   ]
  },
  {
   "cell_type": "markdown",
   "metadata": {},
   "source": [
    "#### 將該機台的回報率調整至平均回報率節點。"
   ]
  },
  {
   "cell_type": "markdown",
   "metadata": {},
   "source": [
    "![](images/Thompson4.png)"
   ]
  },
  {
   "cell_type": "markdown",
   "metadata": {},
   "source": [
    "#### 經由不斷的嘗試，概率會不斷的往最佳化收斂，從圖中可觀測綠,黃為回報率較高的機台。"
   ]
  },
  {
   "cell_type": "markdown",
   "metadata": {
    "collapsed": true
   },
   "source": [
    "![](images/Thompson6.png)"
   ]
  },
  {
   "cell_type": "markdown",
   "metadata": {},
   "source": [
    "# UCB  VS  Thompson Sampling "
   ]
  },
  {
   "cell_type": "markdown",
   "metadata": {
    "collapsed": true
   },
   "source": [
    "#### UCB：預估值會受到平均報酬與信賴區間上界(UCB)所影響，隨著執行次數越多，則會讓預估值與UCB差距越小，也就越可信"
   ]
  },
  {
   "cell_type": "markdown",
   "metadata": {},
   "source": [
    "![](images/Thompson8.png)"
   ]
  },
  {
   "cell_type": "markdown",
   "metadata": {},
   "source": [
    "#### UCB\n",
    "#### 1.以單一值做決定\n",
    "#### 2.每一次抽樣都會影響下一次的結果\n",
    "\n",
    "#### Thompson Sampling\n",
    "#### 1.以機率分布做決定\n",
    "#### 2.抽樣的先後順序都會反饋至結果，因此具備回饋的適應性\n",
    "#### 3.以經驗法則來看，Thompson優於UCB\n",
    "#### 4.效能上UCB優於Thompson"
   ]
  },
  {
   "cell_type": "markdown",
   "metadata": {},
   "source": [
    "# Thompson Sampling Algorithm\n",
    "### ★資料預處理\n",
    "#### 載入套件,匯入資料"
   ]
  },
  {
   "cell_type": "code",
   "execution_count": 6,
   "metadata": {
    "collapsed": true
   },
   "outputs": [],
   "source": [
    "import numpy as np\n",
    "import matplotlib.pyplot as plt\n",
    "import pandas as pd\n",
    "\n",
    "# Importing the dataset\n",
    "dataset = pd.read_csv('/Users/laikuanhung/Desktop/Daniel_aws/ML/Thompson_Sampling/Ads_CTR_Optimisation.csv')"
   ]
  },
  {
   "cell_type": "markdown",
   "metadata": {},
   "source": [
    "#### 資料內容"
   ]
  },
  {
   "cell_type": "markdown",
   "metadata": {
    "collapsed": true
   },
   "source": [
    "![](images/Thompson7.png)"
   ]
  },
  {
   "cell_type": "markdown",
   "metadata": {},
   "source": [
    "#### 設定變數"
   ]
  },
  {
   "cell_type": "code",
   "execution_count": 35,
   "metadata": {
    "collapsed": true
   },
   "outputs": [],
   "source": [
    "import random\n",
    "N = 10000\n",
    "d = 10\n",
    "ads_selected = []\n",
    "numbers_of_rewards_1 = [0] * d\n",
    "numbers_of_rewards_0 = [0] * d\n",
    "total_reward = 0"
   ]
  },
  {
   "cell_type": "markdown",
   "metadata": {},
   "source": [
    "### ★建立模型\n",
    "#### 執行每round後，每個ad都會產生出random_beta值，並選出最高值為此回合的推薦廣告\n",
    "#### 若是預測成功，該廣告的win參數加1,若是預測失敗，該廣告的lost參數加1\n",
    "#### 根據每一名客戶隨機選擇投放的廣告，去觀察這一萬名客戶的整體報酬，總投放回應的報酬約2569人"
   ]
  },
  {
   "cell_type": "code",
   "execution_count": 36,
   "metadata": {
    "collapsed": true
   },
   "outputs": [],
   "source": [
    "for n in range(0, N):\n",
    "    ad = 0\n",
    "    max_random = 0\n",
    "\n",
    "    for i in range(0, d):\n",
    "        random_beta = random.betavariate(numbers_of_rewards_1[i] + 1, numbers_of_rewards_0[i] + 1)\n",
    "        if random_beta > max_random:\n",
    "            max_random = random_beta\n",
    "            ad = i\n",
    "    ads_selected.append(ad)\n",
    "    reward = dataset.values[n, ad]\n",
    "\n",
    "    if reward == 1:\n",
    "        numbers_of_rewards_1[ad] = numbers_of_rewards_1[ad] + 1\n",
    "    else:\n",
    "        numbers_of_rewards_0[ad] = numbers_of_rewards_0[ad] + 1\n",
    "    total_reward = total_reward + reward\n",
    "    "
   ]
  },
  {
   "cell_type": "code",
   "execution_count": 37,
   "metadata": {},
   "outputs": [
    {
     "name": "stdout",
     "output_type": "stream",
     "text": [
      "2605\n"
     ]
    }
   ],
   "source": [
    "print(total_reward)\n"
   ]
  },
  {
   "cell_type": "markdown",
   "metadata": {},
   "source": [
    "#### 以圖像化的方式呈現每個廣告被選中的次數，從圖中可觀察廣告4被選中最多次．"
   ]
  },
  {
   "cell_type": "code",
   "execution_count": 5,
   "metadata": {},
   "outputs": [
    {
     "data": {
      "image/png": "[encoded data removed]",
      "text/plain": [
       "<matplotlib.figure.Figure at 0x113fd1b10>"
      ]
     },
     "metadata": {},
     "output_type": "display_data"
    }
   ],
   "source": [
    "plt.hist(ads_selected)\n",
    "plt.title('Histogram of ads selections')\n",
    "plt.xlabel('Ads')\n",
    "plt.ylabel('Number of times each ad was selected')\n",
    "plt.show()"
   ]
  }
 ],
 "metadata": {
  "kernelspec": {
   "display_name": "Python 3",
   "language": "python",
   "name": "python3"
  },
  "language_info": {
   "codemirror_mode": {
    "name": "ipython",
    "version": 3
   },
   "file_extension": ".py",
   "mimetype": "text/x-python",
   "name": "python",
   "nbconvert_exporter": "python",
   "pygments_lexer": "ipython3",
   "version": "3.6.1"
  }
 },
 "nbformat": 4,
 "nbformat_minor": 2
}
