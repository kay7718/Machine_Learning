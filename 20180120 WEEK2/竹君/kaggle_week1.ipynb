{
 "cells": [
  {
   "cell_type": "code",
   "execution_count": 1,
   "metadata": {
    "collapsed": true
   },
   "outputs": [],
   "source": [
    "import numpy as np\n",
    "import pandas as pd\n",
    "import random"
   ]
  },
  {
   "cell_type": "code",
   "execution_count": 2,
   "metadata": {},
   "outputs": [
    {
     "name": "stdout",
     "output_type": "stream",
     "text": [
      "kaggle_week1.ipynb\n",
      "sample_submission.csv\n",
      "test_ver2.csv\n",
      "train_ver2.csv\n",
      "\n"
     ]
    }
   ],
   "source": [
    "from subprocess import check_output\n",
    "print(check_output([\"ls\", \"/Users/micotai/Documents/kaggle\"]).decode(\"utf8\"))"
   ]
  },
  {
   "cell_type": "markdown",
   "metadata": {},
   "source": [
    "### 資料大小處理\n",
    "資料有1300多萬筆，為使運算時間不過長，作者取1000筆探勘使用。"
   ]
  },
  {
   "cell_type": "code",
   "execution_count": 3,
   "metadata": {},
   "outputs": [
    {
     "name": "stdout",
     "output_type": "stream",
     "text": [
      "13647309\n"
     ]
    }
   ],
   "source": [
    "N_ROWS = 1000\n",
    "filename = \"/Users/micotai/Documents/kaggle/train_ver2.csv\"\n",
    "\n",
    "n = sum(1 for line in open(filename)) - 1 #number of records in file (excludes header)\n",
    "#n = 13647309 number of records in train_ver2.csv\n",
    "print(n)\n",
    "skip = sorted(random.sample(range(1,n+1),n-N_ROWS)) #the 0-indexed header will not be included in the skip list"
   ]
  },
  {
   "cell_type": "code",
   "execution_count": 4,
   "metadata": {
    "scrolled": true
   },
   "outputs": [
    {
     "name": "stdout",
     "output_type": "stream",
     "text": [
      "(1000, 48)\n"
     ]
    }
   ],
   "source": [
    "df = pd.read_csv(filename, skiprows=skip)\n",
    "print(df.shape)"
   ]
  },
  {
   "cell_type": "markdown",
   "metadata": {},
   "source": [
    "### 欄位格式調整\n",
    "將'fecha_dato'(資料時間)、'fecha_alta'(最早往來日期)，功用、用法類似之前的pandas.to_numeric"
   ]
  },
  {
   "cell_type": "code",
   "execution_count": 5,
   "metadata": {
    "collapsed": true
   },
   "outputs": [],
   "source": [
    "df['fecha_dato'] = pd.to_datetime(df['fecha_dato'])\n",
    "df['fecha_alta'] = pd.to_datetime(df['fecha_alta'])"
   ]
  },
  {
   "cell_type": "markdown",
   "metadata": {},
   "source": [
    "### 敘述性統計\n",
    "平均數、標準差、最小值、中位數、xx分位數、最大值。"
   ]
  },
  {
   "cell_type": "code",
   "execution_count": 6,
   "metadata": {
    "scrolled": true
   },
   "outputs": [
    {
     "name": "stdout",
     "output_type": "stream",
     "text": [
      "         fecha_dato      ncodpers    fecha_alta   ind_nuevo  indrel  \\\n",
      "count  8.140000e+02  8.140000e+02  8.140000e+02  814.000000   814.0   \n",
      "mean   1.445136e+18  8.007125e+05  1.222592e+18    0.017199     1.0   \n",
      "std    1.254266e+16  4.143700e+05  1.723508e+17    0.130092     0.0   \n",
      "min    1.422403e+18  1.685400e+04  8.053344e+17    0.000000     1.0   \n",
      "10%    1.425807e+18  1.951540e+05  9.755683e+17    0.000000     1.0   \n",
      "20%    1.432771e+18  3.734134e+05  1.044161e+18    0.000000     1.0   \n",
      "30%    1.438042e+18  5.147300e+05  1.113463e+18    0.000000     1.0   \n",
      "40%    1.443398e+18  6.918894e+05  1.184388e+18    0.000000     1.0   \n",
      "50%    1.445990e+18  8.988025e+05  1.295309e+18    0.000000     1.0   \n",
      "60%    1.448669e+18  9.846364e+05  1.322438e+18    0.000000     1.0   \n",
      "70%    1.453939e+18  1.102000e+06  1.353370e+18    0.000000     1.0   \n",
      "80%    1.459123e+18  1.220277e+06  1.384819e+18    0.000000     1.0   \n",
      "90%    1.461802e+18  1.319193e+06  1.412191e+18    0.000000     1.0   \n",
      "max    1.464394e+18  1.450697e+06  1.442275e+18    1.000000     1.0   \n",
      "\n",
      "       indrel_1mes  tipodom    cod_prov  ind_actividad_cliente         renta  \\\n",
      "count        814.0    814.0  814.000000             814.000000  8.140000e+02   \n",
      "mean           1.0      1.0   26.261671               0.466830  1.467216e+05   \n",
      "std            0.0      0.0   12.567029               0.499205  5.539025e+05   \n",
      "min            1.0      1.0    2.000000               0.000000  1.400961e+04   \n",
      "10%            1.0      1.0    8.000000               0.000000  5.065612e+04   \n",
      "20%            1.0      1.0   11.600000               0.000000  6.164213e+04   \n",
      "30%            1.0      1.0   23.000000               0.000000  7.513238e+04   \n",
      "40%            1.0      1.0   28.000000               0.000000  8.726952e+04   \n",
      "50%            1.0      1.0   28.000000               0.000000  1.022964e+05   \n",
      "60%            1.0      1.0   28.000000               1.000000  1.212545e+05   \n",
      "70%            1.0      1.0   28.000000               1.000000  1.439585e+05   \n",
      "80%            1.0      1.0   36.000000               1.000000  1.753060e+05   \n",
      "90%            1.0      1.0   46.000000               1.000000  2.366776e+05   \n",
      "max            1.0      1.0   52.000000               1.000000  1.571172e+07   \n",
      "\n",
      "                  ...               nomprov_TARRAGONA  nomprov_TERUEL  \\\n",
      "count             ...                      814.000000           814.0   \n",
      "mean              ...                        0.004914             0.0   \n",
      "std               ...                        0.069971             0.0   \n",
      "min               ...                        0.000000             0.0   \n",
      "10%               ...                        0.000000             0.0   \n",
      "20%               ...                        0.000000             0.0   \n",
      "30%               ...                        0.000000             0.0   \n",
      "40%               ...                        0.000000             0.0   \n",
      "50%               ...                        0.000000             0.0   \n",
      "60%               ...                        0.000000             0.0   \n",
      "70%               ...                        0.000000             0.0   \n",
      "80%               ...                        0.000000             0.0   \n",
      "90%               ...                        0.000000             0.0   \n",
      "max               ...                        1.000000             0.0   \n",
      "\n",
      "       nomprov_TOLEDO  nomprov_VALENCIA  nomprov_VALLADOLID  nomprov_ZAMORA  \\\n",
      "count      814.000000        814.000000          814.000000      814.000000   \n",
      "mean         0.009828          0.044226            0.025799        0.006143   \n",
      "std          0.098709          0.205723            0.158631        0.078181   \n",
      "min          0.000000          0.000000            0.000000        0.000000   \n",
      "10%          0.000000          0.000000            0.000000        0.000000   \n",
      "20%          0.000000          0.000000            0.000000        0.000000   \n",
      "30%          0.000000          0.000000            0.000000        0.000000   \n",
      "40%          0.000000          0.000000            0.000000        0.000000   \n",
      "50%          0.000000          0.000000            0.000000        0.000000   \n",
      "60%          0.000000          0.000000            0.000000        0.000000   \n",
      "70%          0.000000          0.000000            0.000000        0.000000   \n",
      "80%          0.000000          0.000000            0.000000        0.000000   \n",
      "90%          0.000000          0.000000            0.000000        0.000000   \n",
      "max          1.000000          1.000000            1.000000        1.000000   \n",
      "\n",
      "       nomprov_ZARAGOZA  segmento_01 - TOP  segmento_02 - PARTICULARES  \\\n",
      "count        814.000000         814.000000                  814.000000   \n",
      "mean           0.029484           0.041769                    0.597052   \n",
      "std            0.169263           0.200184                    0.490792   \n",
      "min            0.000000           0.000000                    0.000000   \n",
      "10%            0.000000           0.000000                    0.000000   \n",
      "20%            0.000000           0.000000                    0.000000   \n",
      "30%            0.000000           0.000000                    0.000000   \n",
      "40%            0.000000           0.000000                    0.000000   \n",
      "50%            0.000000           0.000000                    1.000000   \n",
      "60%            0.000000           0.000000                    1.000000   \n",
      "70%            0.000000           0.000000                    1.000000   \n",
      "80%            0.000000           0.000000                    1.000000   \n",
      "90%            0.000000           0.000000                    1.000000   \n",
      "max            1.000000           1.000000                    1.000000   \n",
      "\n",
      "       segmento_03 - UNIVERSITARIO  \n",
      "count                   814.000000  \n",
      "mean                      0.358722  \n",
      "std                       0.479920  \n",
      "min                       0.000000  \n",
      "10%                       0.000000  \n",
      "20%                       0.000000  \n",
      "30%                       0.000000  \n",
      "40%                       0.000000  \n",
      "50%                       0.000000  \n",
      "60%                       0.000000  \n",
      "70%                       1.000000  \n",
      "80%                       1.000000  \n",
      "90%                       1.000000  \n",
      "max                       1.000000  \n",
      "\n",
      "[14 rows x 455 columns]\n"
     ]
    }
   ],
   "source": [
    "df_dummiesed = pd.get_dummies(df) #將資料變數轉為虛擬變數\n",
    "#df_dummiesed = df_dummiesed.sort_values(\"fecha_dato\",ascending=True) #我自己增加的，為了要讓抽樣後的資料依資料年月排序\n",
    "df_dummiesed = df_dummiesed.drop_duplicates(subset=\"ncodpers\",keep=\"last\") #刪除重複資料\n",
    "df_dummiesed[\"fecha_alta\"] = pd.to_numeric(df_dummiesed[\"fecha_alta\"]) #轉為數值變數\n",
    "df_dummiesed[\"fecha_dato\"] = pd.to_numeric(df_dummiesed[\"fecha_dato\"]) #轉為數值變數\n",
    "#df_dummiesed = df_dummiesed.drop(\"conyuemp\",axis=1).fillna(df_dummiesed.mean()) #處理空值(全部補平均值)，但其實不能這樣做\n",
    "df_dummiesed = df_dummiesed.drop(\"conyuemp\",axis=1).dropna()#刪除\"conyuemp\"員工配偶註記欄位，並刪除有任一空值的資料列\n",
    "print(df_dummiesed.describe([.1, .2, .3, .4, .5, .6, .7, .8, .9]))"
   ]
  },
  {
   "cell_type": "markdown",
   "metadata": {},
   "source": [
    "### 用KMeans進行客戶分群\n",
    "silhouette輪廓係數: 一種估算分群開不開的指標<p>\n",
    "(b - a) / max(a, b)<p>\n",
    "a: 每個樣本點的組內距離平均；b: 每個樣本點的組間距離(非樣本點的組中，跟樣本點最近的組)平均"
   ]
  },
  {
   "cell_type": "code",
   "execution_count": 7,
   "metadata": {},
   "outputs": [
    {
     "data": {
      "image/png": "[encoded data removed]",
      "text/plain": [
       "<matplotlib.figure.Figure at 0x137827240>"
      ]
     },
     "metadata": {},
     "output_type": "display_data"
    }
   ],
   "source": [
    "from sklearn.cluster import KMeans\n",
    "from sklearn.metrics import silhouette_score\n",
    "import seaborn as sns\n",
    "import matplotlib.pyplot as plt\n",
    "\n",
    "s = []\n",
    "for n_clusters in range(2,20):\n",
    "    kmeans = KMeans(n_clusters=n_clusters)\n",
    "    kmeans.fit(df_dummiesed)\n",
    "\n",
    "    labels = kmeans.labels_\n",
    "    centroids = kmeans.cluster_centers_\n",
    "\n",
    "    s.append(silhouette_score(df_dummiesed, labels, metric='euclidean'))\n",
    "\n",
    "plt.plot(s)\n",
    "plt.xticks(np.linspace(2, 20, 10)) #我額外增加的，讓X軸座標能固定下來，方便觀察\n",
    "plt.ylabel(\"Silouette\")\n",
    "plt.xlabel(\"k\")\n",
    "plt.title(\"Silouette for K-means cell's behaviour\")\n",
    "sns.despine() #讓圖不要有上面和右邊的框線\n",
    "plt.show()"
   ]
  },
  {
   "cell_type": "code",
   "execution_count": 8,
   "metadata": {},
   "outputs": [
    {
     "data": {
      "image/png": "[encoded data removed]",
      "text/plain": [
       "<matplotlib.figure.Figure at 0x13782bd30>"
      ]
     },
     "metadata": {},
     "output_type": "display_data"
    }
   ],
   "source": [
    "from sklearn.cluster import KMeans\n",
    "wcss = []\n",
    "for i in range(1, 11):\n",
    "    kmeans = KMeans(n_clusters = i, init = 'k-means++', random_state = 42)\n",
    "    kmeans.fit(df_dummiesed)\n",
    "    wcss.append(kmeans.inertia_)\n",
    "plt.plot(range(1, 11), wcss)\n",
    "plt.xticks(np.linspace(1, 11, 11))\n",
    "plt.title('The Elbow Method')\n",
    "plt.xlabel('Number of clusters')\n",
    "plt.ylabel('WCSS')\n",
    "sns.despine()\n",
    "plt.show()"
   ]
  },
  {
   "cell_type": "markdown",
   "metadata": {},
   "source": [
    "#### 分群結果的各群個數"
   ]
  },
  {
   "cell_type": "code",
   "execution_count": 9,
   "metadata": {
    "scrolled": true
   },
   "outputs": [
    {
     "name": "stdout",
     "output_type": "stream",
     "text": [
      "[ 1  1  1  5  5  5  7  7  7  7  8  8  8  8  8  8  7  8  8  8  9  9  9  9  9\n",
      "  3  6  6  2  2  2  2 10  2  2  0  4  0  0  0  0  0  0  0  0  4  4  4  4  4\n",
      "  4  0  0  2  2  2  6  9  6  3  3  9  0  0  9  9  9  8  8  8  8  8  8  8  8\n",
      "  7  7  5  5  5  1  1  4  4  4  4  4  4 10  2  0  3  6  3  9  9  8  8  8  8\n",
      "  7  7  7  7  5  5  5  5  1  8  1  1  4  4  0  4  0 10  2  6  9  9  6  6  9\n",
      "  9  0  0  0  2  9  9  8  8  8  7  7  7  7  7  7  7  5  5  1  1  1  1  1  1\n",
      "  1  1  1  1  1  1  8  5  5  5  5  5  7  7  7  7  8  8  8  9  9  0  3  3  9\n",
      "  9  2 10 10  0  0  0  0  4  4  1  1  1  1  1  5  5  5  5  1  5  7  7  7  7\n",
      "  7  7  7  8  8  8  8  9  9  9  6  6  6  6  6  6  2  2 10 10  0  0  4  2  2\n",
      "  4  0  5  5  5  2  2  2  5 10  9  3  6  3  3  0  9  0  0  0  0  0  9  8  1\n",
      "  1  1  1  8  8  8  5  5  1  1  1  1  7  7  7  7  7  8  8  7  7  8 10  5  5\n",
      "  5 10 10  5  5  5  5  5  5  4  4  4  4  0 10  2  2  2  2  2  7  8  8  7  1\n",
      "  1  1  1  1  1  8  8  8  8  6  9  9  3  3  3  9  9  9  9  9  9  4  4  4  4\n",
      "  0  0  5  5  5  4 10 10 10  6  6  9  3  6  3  4  9  9  9  8  7  7  8  2 10\n",
      "  2  2  7  7  7  7  1  1  5  1  1  5  5  5  5  5  8  1  1  7  7  7  7  7  7\n",
      "  8  8  8  1  1  8  5  5  5  5  1  1  1  1  1  1  7  7  7  7  7  7  7  7  7\n",
      "  7  7  8  7  7  7  7  9  9  0  5  9  6  3  0  3  6  3  3  9  9  9 10  2  2\n",
      "  2  2  2  5  5  5  5  5  5  2  2  4  4 10  7  0  4  4  9  0  9  2  2 10  2\n",
      "  4  4  4  2  3  9  9  0  6  6  6  8  7  8  8  8  8  8  8  8  8  7  7  7  7\n",
      "  7  7  5  5  5  5 10 10  5  5  5  1  1  1  1  1  1  1  1  5  5 10  5  5  5\n",
      "  8  7  8  7  8  1  9  9  9  9  9  2  0  6  3  3  3  2  4  2 10 10 10  2  2\n",
      "  0  0  0  4  4  4  4  7  7  7  7  3  6  6  6  0  4  9  9  7  7  7  7  7  7\n",
      "  7  7  7  8  8  3  3  8  8  8 10 10  2  5  5 10 10 10  4  4  4  4  0  4  4\n",
      "  2  2  2  4  4  8  1  1  9  9  9  0  5  5  5  5  5  5  1  7  7  7  7  7  8\n",
      "  7  8  8  7  7  7  4  4  0  0  9  0  0  4  8  2  4  4  6  6  6  6  3  9  9\n",
      "  9  9  8  1  1  5  8  1  8  5 10  2  2  5  5  5  5  5  5  7  7  7  7  7  7\n",
      "  7  7  7  7  7  7  6  6  6  6  9  9  4  6  3  0  6  0  0  0  0  0  9  9  9\n",
      " 10  2 10  2 10 10  5  5  4  2  4  4  0  0  0  4  4  2  2  4  4  8  8  8  1\n",
      "  8  8  8  8  8  5  1  1  1  5  1  1  1  1  1  1  1  4  4  2  2  4  5 10 10\n",
      " 10  2 10  6  6  3  3  9  9  9  0  4  9  9  9  8  8  8  5  5  5  5  5  5  5\n",
      "  1  1  5  5  7  7  7  7  7  7  8  8  8  8  8  7  7  7  7  7  7  4  2  4  4\n",
      "  4  5  5  5  5  5 10  2 10  6 10  9  6  3  3  3  6  6  9  0  9  9  9  7  7\n",
      "  7  7  7  7  7  7  1  5  1  8  7  8  8  8]\n"
     ]
    },
    {
     "data": {
      "image/png": "[encoded data removed]",
      "text/plain": [
       "<matplotlib.figure.Figure at 0x10f1fb7f0>"
      ]
     },
     "metadata": {},
     "output_type": "display_data"
    }
   ],
   "source": [
    "N_CLUSTERS = 11 #labels為群0-群10\n",
    "kmeans = KMeans(n_clusters=N_CLUSTERS)\n",
    "kmeans.fit(df_dummiesed)\n",
    "\n",
    "print(kmeans.labels_)\n",
    "plt.hist(kmeans.labels_,bins=[0,1, 2, 3, 4,5,6,7,8,9,10,11])\n",
    "plt.show()"
   ]
  },
  {
   "cell_type": "markdown",
   "metadata": {},
   "source": [
    "### 計算客戶間的cosine相似性"
   ]
  },
  {
   "cell_type": "code",
   "execution_count": 10,
   "metadata": {},
   "outputs": [
    {
     "name": "stdout",
     "output_type": "stream",
     "text": [
      "ncodpers   1112371   1094635   1094223   935687    940172    960142   \\\n",
      "ncodpers                                                               \n",
      "1112371   1.000000  0.999999  0.999999  0.999880  0.999889  0.999905   \n",
      "1094635   0.999999  1.000000  1.000000  0.999898  0.999906  0.999921   \n",
      "1094223   0.999999  1.000000  1.000000  0.999900  0.999907  0.999922   \n",
      "935687    0.999880  0.999898  0.999900  1.000000  1.000000  0.999999   \n",
      "940172    0.999889  0.999906  0.999907  1.000000  1.000000  0.999999   \n",
      "960142    0.999905  0.999921  0.999922  0.999999  0.999999  1.000000   \n",
      "1303569   0.999804  0.999779  0.999777  0.999378  0.999397  0.999435   \n",
      "1282400   0.999829  0.999805  0.999804  0.999423  0.999441  0.999478   \n",
      "1370038   0.999740  0.999711  0.999709  0.999267  0.999288  0.999329   \n",
      "1373659   0.999729  0.999700  0.999698  0.999249  0.999271  0.999312   \n",
      "1170172   0.999967  0.999956  0.999956  0.999722  0.999735  0.999760   \n",
      "1167695   0.999969  0.999959  0.999958  0.999727  0.999740  0.999764   \n",
      "1182405   0.999960  0.999948  0.999947  0.999701  0.999714  0.999740   \n",
      "1219862   0.999944  0.999930  0.999929  0.999660  0.999675  0.999703   \n",
      "1243884   0.999908  0.999891  0.999890  0.999579  0.999595  0.999626   \n",
      "1248681   0.999896  0.999878  0.999876  0.999553  0.999570  0.999602   \n",
      "1240881   0.999778  0.999751  0.999749  0.999332  0.999352  0.999391   \n",
      "1239406   0.999919  0.999903  0.999902  0.999603  0.999619  0.999649   \n",
      "1195900   0.999955  0.999942  0.999941  0.999688  0.999701  0.999728   \n",
      "1190703   0.999956  0.999944  0.999943  0.999691  0.999704  0.999731   \n",
      "281066    0.989178  0.989355  0.989369  0.991330  0.991257  0.991109   \n",
      "275941    0.989107  0.989284  0.989298  0.991266  0.991192  0.991044   \n",
      "294337    0.989374  0.989549  0.989563  0.991505  0.991432  0.991286   \n",
      "265852    0.988751  0.988931  0.988945  0.990947  0.990872  0.990721   \n",
      "321646    0.989798  0.989970  0.989984  0.991884  0.991813  0.991671   \n",
      "58960     0.976181  0.976443  0.976464  0.979421  0.979309  0.979083   \n",
      "171213    0.985577  0.985781  0.985797  0.988077  0.987991  0.987819   \n",
      "161246    0.985227  0.985434  0.985450  0.987759  0.987672  0.987497   \n",
      "683787    0.997489  0.997574  0.997580  0.998465  0.998434  0.998371   \n",
      "691734    0.997790  0.997870  0.997876  0.998699  0.998670  0.998612   \n",
      "...            ...       ...       ...       ...       ...       ...   \n",
      "178904    0.984143  0.984358  0.984374  0.986770  0.986680  0.986498   \n",
      "146023    0.998890  0.998947  0.998951  0.999500  0.999482  0.999445   \n",
      "232674    0.985760  0.985963  0.985979  0.988244  0.988159  0.987988   \n",
      "196344    0.984556  0.984767  0.984784  0.987147  0.987058  0.986879   \n",
      "69901     0.974795  0.975065  0.975086  0.978130  0.978014  0.977782   \n",
      "72656     0.975365  0.975631  0.975652  0.978661  0.978547  0.978317   \n",
      "21247     0.969653  0.969949  0.969972  0.973320  0.973192  0.972936   \n",
      "128357    0.980400  0.980638  0.980657  0.983331  0.983230  0.983026   \n",
      "124312    0.980057  0.980297  0.980316  0.983015  0.982912  0.982707   \n",
      "100628    0.985173  0.985380  0.985396  0.987709  0.987622  0.987447   \n",
      "429310    0.990901  0.991063  0.991076  0.992865  0.992798  0.992664   \n",
      "373132    0.988813  0.988993  0.989007  0.991002  0.990928  0.990778   \n",
      "259078    0.986446  0.986644  0.986660  0.988867  0.988784  0.988617   \n",
      "363583    0.988635  0.988816  0.988831  0.990843  0.990767  0.990616   \n",
      "1369733   0.999966  0.999955  0.999954  0.999718  0.999731  0.999756   \n",
      "1338852   0.999978  0.999969  0.999969  0.999756  0.999768  0.999792   \n",
      "1409640   0.999890  0.999871  0.999870  0.999541  0.999557  0.999590   \n",
      "1382448   0.999949  0.999936  0.999935  0.999674  0.999688  0.999715   \n",
      "1297781   0.999989  0.999983  0.999982  0.999797  0.999808  0.999829   \n",
      "1276992   0.999993  0.999987  0.999987  0.999813  0.999824  0.999844   \n",
      "1444065   0.999867  0.999846  0.999845  0.999495  0.999512  0.999547   \n",
      "1414946   0.999889  0.999870  0.999868  0.999538  0.999555  0.999587   \n",
      "1103015   0.999884  0.999901  0.999903  1.000000  1.000000  0.999999   \n",
      "984315    0.999638  0.999669  0.999672  0.999934  0.999928  0.999914   \n",
      "1021836   0.999806  0.999829  0.999830  0.999991  0.999988  0.999982   \n",
      "1216614   0.999991  0.999996  0.999996  0.999936  0.999942  0.999954   \n",
      "1264800   0.999996  0.999992  0.999991  0.999831  0.999841  0.999861   \n",
      "1146198   0.999972  0.999980  0.999981  0.999968  0.999973  0.999980   \n",
      "1174548   0.999982  0.999989  0.999989  0.999955  0.999960  0.999969   \n",
      "1176434   0.999983  0.999990  0.999990  0.999953  0.999958  0.999968   \n",
      "\n",
      "ncodpers   1303569   1282400   1370038   1373659    ...      1444065  \\\n",
      "ncodpers                                            ...                \n",
      "1112371   0.999804  0.999829  0.999740  0.999729    ...     0.999867   \n",
      "1094635   0.999779  0.999805  0.999711  0.999700    ...     0.999846   \n",
      "1094223   0.999777  0.999804  0.999709  0.999698    ...     0.999845   \n",
      "935687    0.999378  0.999423  0.999267  0.999249    ...     0.999495   \n",
      "940172    0.999397  0.999441  0.999288  0.999271    ...     0.999512   \n",
      "960142    0.999435  0.999478  0.999329  0.999312    ...     0.999547   \n",
      "1303569   1.000000  0.999999  0.999995  0.999994    ...     0.999994   \n",
      "1282400   0.999999  1.000000  0.999991  0.999989    ...     0.999998   \n",
      "1370038   0.999995  0.999991  1.000000  1.000000    ...     0.999979   \n",
      "1373659   0.999994  0.999989  1.000000  1.000000    ...     0.999976   \n",
      "1170172   0.999932  0.999946  0.999892  0.999885    ...     0.999966   \n",
      "1167695   0.999929  0.999944  0.999889  0.999882    ...     0.999965   \n",
      "1182405   0.999942  0.999955  0.999904  0.999898    ...     0.999973   \n",
      "1219862   0.999958  0.999969  0.999925  0.999919    ...     0.999984   \n",
      "1243884   0.999980  0.999988  0.999957  0.999953    ...     0.999996   \n",
      "1248681   0.999985  0.999992  0.999965  0.999961    ...     0.999998   \n",
      "1240881   0.999999  0.999997  0.999998  0.999998    ...     0.999989   \n",
      "1239406   0.999975  0.999983  0.999949  0.999944    ...     0.999993   \n",
      "1195900   0.999947  0.999960  0.999912  0.999905    ...     0.999977   \n",
      "1190703   0.999946  0.999958  0.999910  0.999904    ...     0.999976   \n",
      "281066    0.986079  0.986293  0.985572  0.985495    ...     0.986653   \n",
      "275941    0.985998  0.986212  0.985490  0.985412    ...     0.986574   \n",
      "294337    0.986301  0.986513  0.985798  0.985721    ...     0.986870   \n",
      "265852    0.985595  0.985812  0.985079  0.985001    ...     0.986179   \n",
      "321646    0.986783  0.986991  0.986289  0.986214    ...     0.987343   \n",
      "58960     0.971694  0.971998  0.970975  0.970866    ...     0.972512   \n",
      "171213    0.982033  0.982275  0.981458  0.981370    ...     0.982685   \n",
      "161246    0.981643  0.981888  0.981062  0.980974    ...     0.982303   \n",
      "683787    0.995891  0.996007  0.995612  0.995569    ...     0.996200   \n",
      "691734    0.996279  0.996389  0.996013  0.995973    ...     0.996573   \n",
      "...            ...       ...       ...       ...    ...          ...   \n",
      "178904    0.980439  0.980691  0.979839  0.979748    ...     0.981119   \n",
      "146023    0.997762  0.997847  0.997555  0.997523    ...     0.997989   \n",
      "232674    0.982238  0.982478  0.981666  0.981579    ...     0.982886   \n",
      "196344    0.980897  0.981146  0.980304  0.980214    ...     0.981569   \n",
      "69901     0.970187  0.970498  0.969449  0.969337    ...     0.971026   \n",
      "72656     0.970806  0.971114  0.970076  0.969965    ...     0.971637   \n",
      "21247     0.964623  0.964961  0.963821  0.963699    ...     0.965536   \n",
      "128357    0.976307  0.976585  0.975648  0.975548    ...     0.977056   \n",
      "124312    0.975931  0.976211  0.975267  0.975166    ...     0.976686   \n",
      "100628    0.981582  0.981828  0.981000  0.980912    ...     0.982243   \n",
      "429310    0.988042  0.988240  0.987571  0.987499    ...     0.988573   \n",
      "373132    0.985666  0.985882  0.985151  0.985072    ...     0.986248   \n",
      "259078    0.983004  0.983240  0.982445  0.982359    ...     0.983639   \n",
      "363583    0.985465  0.985683  0.984946  0.984867    ...     0.986051   \n",
      "1369733   0.999934  0.999948  0.999894  0.999887    ...     0.999968   \n",
      "1338852   0.999913  0.999929  0.999868  0.999861    ...     0.999953   \n",
      "1409640   0.999988  0.999993  0.999968  0.999964    ...     0.999999   \n",
      "1382448   0.999953  0.999964  0.999919  0.999913    ...     0.999981   \n",
      "1297781   0.999886  0.999904  0.999835  0.999827    ...     0.999932   \n",
      "1276992   0.999873  0.999892  0.999820  0.999811    ...     0.999922   \n",
      "1444065   0.999994  0.999998  0.999979  0.999976    ...     1.000000   \n",
      "1414946   0.999988  0.999994  0.999969  0.999965    ...     0.999999   \n",
      "1103015   0.999386  0.999430  0.999275  0.999258    ...     0.999502   \n",
      "984315    0.998909  0.998968  0.998763  0.998740    ...     0.999065   \n",
      "1021836   0.999219  0.999269  0.999095  0.999075    ...     0.999351   \n",
      "1216614   0.999713  0.999743  0.999636  0.999623    ...     0.999790   \n",
      "1264800   0.999857  0.999878  0.999801  0.999792    ...     0.999910   \n",
      "1146198   0.999627  0.999661  0.999540  0.999526    ...     0.999716   \n",
      "1174548   0.999669  0.999701  0.999586  0.999573    ...     0.999752   \n",
      "1176434   0.999673  0.999705  0.999591  0.999578    ...     0.999756   \n",
      "\n",
      "ncodpers   1414946   1103015   984315    1021836   1216614   1264800  \\\n",
      "ncodpers                                                               \n",
      "1112371   0.999889  0.999884  0.999638  0.999806  0.999991  0.999996   \n",
      "1094635   0.999870  0.999901  0.999669  0.999829  0.999996  0.999992   \n",
      "1094223   0.999868  0.999903  0.999672  0.999830  0.999996  0.999991   \n",
      "935687    0.999538  1.000000  0.999934  0.999991  0.999936  0.999831   \n",
      "940172    0.999555  1.000000  0.999928  0.999988  0.999942  0.999841   \n",
      "960142    0.999587  0.999999  0.999914  0.999982  0.999954  0.999861   \n",
      "1303569   0.999988  0.999386  0.998909  0.999219  0.999713  0.999857   \n",
      "1282400   0.999994  0.999430  0.998968  0.999269  0.999743  0.999878   \n",
      "1370038   0.999969  0.999275  0.998763  0.999095  0.999636  0.999801   \n",
      "1373659   0.999965  0.999258  0.998740  0.999075  0.999623  0.999792   \n",
      "1170172   0.999977  0.999727  0.999386  0.999612  0.999925  0.999986   \n",
      "1167695   0.999975  0.999732  0.999394  0.999619  0.999927  0.999987   \n",
      "1182405   0.999982  0.999706  0.999355  0.999588  0.999913  0.999981   \n",
      "1219862   0.999991  0.999666  0.999296  0.999541  0.999891  0.999970   \n",
      "1243884   0.999999  0.999586  0.999181  0.999447  0.999843  0.999943   \n",
      "1248681   1.000000  0.999560  0.999146  0.999418  0.999828  0.999934   \n",
      "1240881   0.999981  0.999340  0.998848  0.999167  0.999681  0.999835   \n",
      "1239406   0.999998  0.999609  0.999215  0.999474  0.999858  0.999952   \n",
      "1195900   0.999985  0.999693  0.999336  0.999572  0.999906  0.999978   \n",
      "1190703   0.999985  0.999696  0.999340  0.999576  0.999908  0.999979   \n",
      "281066    0.986877  0.991301  0.992770  0.991879  0.989781  0.988749   \n",
      "275941    0.986798  0.991236  0.992711  0.991817  0.989711  0.988676   \n",
      "294337    0.987092  0.991476  0.992929  0.992049  0.989970  0.988949   \n",
      "265852    0.986407  0.990916  0.992419  0.991508  0.989365  0.988313   \n",
      "321646    0.987561  0.991856  0.993275  0.992416  0.990383  0.989382   \n",
      "58960     0.972833  0.979376  0.981668  0.980270  0.977076  0.975549   \n",
      "171213    0.982940  0.988043  0.989776  0.988723  0.986273  0.985083   \n",
      "161246    0.982560  0.987724  0.989480  0.988413  0.985932  0.984727   \n",
      "683787    0.996320  0.998453  0.999034  0.998691  0.997775  0.997279   \n",
      "691734    0.996686  0.998687  0.999217  0.998906  0.998058  0.997593   \n",
      "...            ...       ...       ...       ...       ...       ...   \n",
      "178904    0.981385  0.986734  0.988562  0.987450  0.984873  0.983626   \n",
      "146023    0.998076  0.999492  0.999796  0.999625  0.999078  0.998750   \n",
      "232674    0.983139  0.988210  0.989930  0.988885  0.986452  0.985269   \n",
      "196344    0.981832  0.987111  0.988912  0.987817  0.985276  0.984045   \n",
      "69901     0.971355  0.978084  0.980448  0.979005  0.975715  0.974145   \n",
      "72656     0.971962  0.978615  0.980950  0.979526  0.976275  0.974722   \n",
      "21247     0.965894  0.973269  0.975884  0.974286  0.970663  0.968941   \n",
      "128357    0.977349  0.983290  0.985349  0.984095  0.981212  0.979826   \n",
      "124312    0.976981  0.982974  0.985052  0.983786  0.980876  0.979478   \n",
      "100628    0.982501  0.987674  0.989434  0.988364  0.985878  0.984672   \n",
      "429310    0.988781  0.992838  0.994165  0.993362  0.991453  0.990507   \n",
      "373132    0.986475  0.990972  0.992470  0.991562  0.989425  0.988377   \n",
      "259078    0.983886  0.988834  0.990506  0.989491  0.987121  0.985967   \n",
      "363583    0.986280  0.990812  0.992324  0.991407  0.989252  0.988195   \n",
      "1369733   0.999978  0.999723  0.999380  0.999608  0.999923  0.999986   \n",
      "1338852   0.999965  0.999761  0.999438  0.999653  0.999942  0.999993   \n",
      "1409640   1.000000  0.999547  0.999128  0.999403  0.999819  0.999929   \n",
      "1382448   0.999988  0.999679  0.999316  0.999556  0.999899  0.999974   \n",
      "1297781   0.999947  0.999801  0.999501  0.999702  0.999961  0.999998   \n",
      "1276992   0.999939  0.999818  0.999527  0.999722  0.999968  1.000000   \n",
      "1444065   0.999999  0.999502  0.999065  0.999351  0.999790  0.999910   \n",
      "1414946   1.000000  0.999545  0.999124  0.999400  0.999818  0.999928   \n",
      "1103015   0.999545  1.000000  0.999932  0.999990  0.999939  0.999835   \n",
      "984315    0.999124  0.999932  1.000000  0.999974  0.999741  0.999555   \n",
      "1021836   0.999400  0.999990  0.999974  1.000000  0.999879  0.999744   \n",
      "1216614   0.999818  0.999939  0.999741  0.999879  1.000000  0.999975   \n",
      "1264800   0.999928  0.999835  0.999555  0.999744  0.999975  1.000000   \n",
      "1146198   0.999748  0.999970  0.999812  0.999925  0.999994  0.999946   \n",
      "1174548   0.999782  0.999957  0.999780  0.999905  0.999998  0.999961   \n",
      "1176434   0.999785  0.999955  0.999777  0.999903  0.999999  0.999962   \n",
      "\n",
      "ncodpers   1146198   1174548   1176434  \n",
      "ncodpers                                \n",
      "1112371   0.999972  0.999982  0.999983  \n",
      "1094635   0.999980  0.999989  0.999990  \n",
      "1094223   0.999981  0.999989  0.999990  \n",
      "935687    0.999968  0.999955  0.999953  \n",
      "940172    0.999973  0.999960  0.999958  \n",
      "960142    0.999980  0.999969  0.999968  \n",
      "1303569   0.999627  0.999669  0.999673  \n",
      "1282400   0.999661  0.999701  0.999705  \n",
      "1370038   0.999540  0.999586  0.999591  \n",
      "1373659   0.999526  0.999573  0.999578  \n",
      "1170172   0.999878  0.999901  0.999903  \n",
      "1167695   0.999881  0.999904  0.999906  \n",
      "1182405   0.999864  0.999888  0.999891  \n",
      "1219862   0.999836  0.999863  0.999866  \n",
      "1243884   0.999778  0.999810  0.999813  \n",
      "1248681   0.999760  0.999793  0.999796  \n",
      "1240881   0.999591  0.999635  0.999639  \n",
      "1239406   0.999796  0.999826  0.999829  \n",
      "1195900   0.999855  0.999880  0.999883  \n",
      "1190703   0.999857  0.999882  0.999885  \n",
      "281066    0.990252  0.990033  0.990011  \n",
      "275941    0.990184  0.989964  0.989942  \n",
      "294337    0.990438  0.990220  0.990198  \n",
      "265852    0.989846  0.989622  0.989600  \n",
      "321646    0.990840  0.990628  0.990606  \n",
      "58960     0.977783  0.977453  0.977420  \n",
      "171213    0.986820  0.986565  0.986540  \n",
      "161246    0.986485  0.986227  0.986202  \n",
      "683787    0.997992  0.997892  0.997882  \n",
      "691734    0.998261  0.998167  0.998158  \n",
      "...            ...       ...       ...  \n",
      "178904    0.985448  0.985180  0.985153  \n",
      "146023    0.999216  0.999153  0.999146  \n",
      "232674    0.986995  0.986742  0.986717  \n",
      "196344    0.985843  0.985579  0.985552  \n",
      "69901     0.976443  0.976104  0.976070  \n",
      "72656     0.976994  0.976659  0.976625  \n",
      "21247     0.971462  0.971089  0.971052  \n",
      "128357    0.981852  0.981554  0.981524  \n",
      "124312    0.981522  0.981221  0.981191  \n",
      "100628    0.986433  0.986175  0.986149  \n",
      "429310    0.991884  0.991683  0.991663  \n",
      "373132    0.989905  0.989682  0.989659  \n",
      "259078    0.987651  0.987404  0.987379  \n",
      "363583    0.989736  0.989511  0.989488  \n",
      "1369733   0.999875  0.999899  0.999901  \n",
      "1338852   0.999900  0.999921  0.999923  \n",
      "1409640   0.999750  0.999784  0.999787  \n",
      "1382448   0.999845  0.999872  0.999874  \n",
      "1297781   0.999926  0.999944  0.999945  \n",
      "1276992   0.999936  0.999952  0.999954  \n",
      "1444065   0.999716  0.999752  0.999756  \n",
      "1414946   0.999748  0.999782  0.999785  \n",
      "1103015   0.999970  0.999957  0.999955  \n",
      "984315    0.999812  0.999780  0.999777  \n",
      "1021836   0.999925  0.999905  0.999903  \n",
      "1216614   0.999994  0.999998  0.999999  \n",
      "1264800   0.999946  0.999961  0.999962  \n",
      "1146198   1.000000  0.999999  0.999999  \n",
      "1174548   0.999999  1.000000  1.000000  \n",
      "1176434   0.999999  1.000000  1.000000  \n",
      "\n",
      "[814 rows x 814 columns]\n"
     ]
    }
   ],
   "source": [
    "from sklearn.metrics.pairwise import cosine_similarity\n",
    "\n",
    "sim = cosine_similarity(df_dummiesed,dense_output=False)\n",
    "df_sim = pd.DataFrame(sim,columns=df_dummiesed['ncodpers'],index=df_dummiesed['ncodpers'])\n",
    "\n",
    "print(df_sim)"
   ]
  },
  {
   "cell_type": "markdown",
   "metadata": {},
   "source": [
    "### 用持有產品的註記欄位來分群\n",
    "####  挑選特定欄位\n",
    "取出產品持有狀態註記的所有欄位\n",
    "<a href=\"https://www.ibm.com/developerworks/cn/opensource/os-cn-pythonre/index.html\">re module參考資料</a>"
   ]
  },
  {
   "cell_type": "code",
   "execution_count": 15,
   "metadata": {},
   "outputs": [
    {
     "name": "stdout",
     "output_type": "stream",
     "text": [
      "['ind_ahor_fin_ult1', 'ind_aval_fin_ult1', 'ind_cco_fin_ult1', 'ind_cder_fin_ult1', 'ind_cno_fin_ult1', 'ind_ctju_fin_ult1', 'ind_ctma_fin_ult1', 'ind_ctop_fin_ult1', 'ind_ctpp_fin_ult1', 'ind_deco_fin_ult1', 'ind_deme_fin_ult1', 'ind_dela_fin_ult1', 'ind_ecue_fin_ult1', 'ind_fond_fin_ult1', 'ind_hip_fin_ult1', 'ind_plan_fin_ult1', 'ind_pres_fin_ult1', 'ind_reca_fin_ult1', 'ind_tjcr_fin_ult1', 'ind_valo_fin_ult1', 'ind_viv_fin_ult1', 'ind_nomina_ult1', 'ind_nom_pens_ult1', 'ind_recibo_ult1', 'ncodpers']\n"
     ]
    }
   ],
   "source": [
    "import re \n",
    "\n",
    "df_p = df.drop_duplicates(subset=\"ncodpers\",keep=\"last\")\n",
    "pattern = re.compile(\"ind_.*_ult1\")\n",
    "prod_cols = [ x for x in df.columns if re.match(pattern,x) ]\n",
    "prod_cols.append(\"ncodpers\")#加上客戶代碼欄位\n",
    "print(prod_cols)\n",
    "\n",
    "df_p = df.loc[:,prod_cols]\n",
    "df_p = df_p.fillna(0)"
   ]
  },
  {
   "cell_type": "code",
   "execution_count": 16,
   "metadata": {},
   "outputs": [
    {
     "data": {
      "image/png": "[encoded data removed]",
      "text/plain": [
       "<matplotlib.figure.Figure at 0x115559e48>"
      ]
     },
     "metadata": {},
     "output_type": "display_data"
    }
   ],
   "source": [
    "p = []\n",
    "for n_clusters in range(2,20):\n",
    "    kmeans = KMeans(n_clusters=n_clusters)\n",
    "    kmeans.fit(df_p)\n",
    "\n",
    "    labels_p = kmeans.labels_\n",
    "    centroids = kmeans.cluster_centers_\n",
    "\n",
    "    p.append(silhouette_score(df_p, labels_p, metric='euclidean'))\n",
    "\n",
    "plt.plot(p)\n",
    "plt.xticks(np.linspace(2, 20, 10)) #我額外增加的，讓X軸座標能固定下來，方便觀察\n",
    "plt.ylabel(\"Silouette\")\n",
    "plt.xlabel(\"k\")\n",
    "plt.title(\"silhouette for K-means cell's behaviour\")\n",
    "sns.despine() #讓圖不要有上面和右邊的框線\n",
    "plt.show()"
   ]
  },
  {
   "cell_type": "code",
   "execution_count": 17,
   "metadata": {},
   "outputs": [
    {
     "data": {
      "image/png": "[encoded data removed]",
      "text/plain": [
       "<matplotlib.figure.Figure at 0x1154e94e0>"
      ]
     },
     "metadata": {},
     "output_type": "display_data"
    }
   ],
   "source": [
    "from sklearn.cluster import KMeans\n",
    "p2 = []\n",
    "for i in range(1, 11):\n",
    "    kmeans = KMeans(n_clusters = i, init = 'k-means++', random_state = 42)\n",
    "    kmeans.fit(df_p)\n",
    "    p2.append(kmeans.inertia_)\n",
    "plt.plot(range(1, 11), p2)\n",
    "plt.xticks(np.linspace(1, 11, 11))\n",
    "plt.title('The Elbow Method')\n",
    "plt.xlabel('Number of clusters')\n",
    "plt.ylabel('WCSS')\n",
    "sns.despine()\n",
    "plt.show()"
   ]
  },
  {
   "cell_type": "code",
   "execution_count": 18,
   "metadata": {},
   "outputs": [
    {
     "name": "stdout",
     "output_type": "stream",
     "text": [
      "[4 4 4 4 4 4 4 0 0 0 0 0 0 4 4 0 4 0 0 0 0 0 0 0 1 1 3 1 3 1 1 1 1 1 1 2 2\n",
      " 2 2 2 4 2 2 3 3 3 3 3 3 3 3 3 3 2 2 2 2 3 3 3 2 3 3 3 2 2 2 2 1 1 1 1 1 1\n",
      " 3 3 3 3 3 1 1 0 0 0 0 0 0 4 0 0 0 0 4 4 4 4 4 4 4 2 3 3 2 2 2 3 2 2 1 1 1\n",
      " 1 1 1 1 3 0 0 0 0 0 0 0 0 0 4 4 4 4 4 4 4 4 4 4 4 3 2 3 3 3 2 2 2 1 1 1 1\n",
      " 1 1 3 3 3 3 3 3 3 3 0 0 0 0 4 0 0 0 0 0 0 0 4 4 4 4 4 4 4 4 4 4 4 4 4 4 4\n",
      " 4 4 4 4 4 4 0 0 0 0 0 0 4 0 0 0 1 3 3 1 1 1 1 2 2 2 2 3 3 3 3 3 2 3 4 4 4\n",
      " 4 4 4 4 4 4 4 4 4 4 4 0 0 0 0 0 0 0 0 0 0 0 0 0 0 1 1 3 3 1 1 1 1 1 1 1 2\n",
      " 2 2 2 2 2 3 3 3 2 2 3 3 3 4 4 4 2 2 2 2 2 1 1 1 1 1 1 1 3 3 3 3 3 3 3 1 3\n",
      " 4 4 4 4 4 0 4 4 4 4 4 4 4 4 4 4 4 0 0 0 0 0 0 0 0 0 0 0 0 0 0 0 4 4 4 4 4\n",
      " 2 2 4 4 4 4 4 4 4 3 3 2 2 3 3 3 3 2 2 2 2 2 2 2 0 0 0 0 0 0 0 0 0 0 4 4 4\n",
      " 4 4 4 4 4 4 0 0 0 4 1 1 1 1 1 1 3 3 3 3 3 1 1 1 3 2 2 3 3 3 4 4 4 2 2 2 2\n",
      " 1 1 1 1 1 1 3 3 3 1 1 1 0 0 0 0 2 2 2 2 2 0 0 0 0 4 4 4 4 4 4 4 4 4 4 4 4\n",
      " 0 0 4 4 4 4 0 0 0 0 0 0 0 0 0 0 0 0 0 4 4 4 0 4 4 4 4 4 4 4 4 4 4 4 4 4 4\n",
      " 0 0 0 0 0 0 0 0 0 0 0 0 0 0 0 0 0 3 3 3 3 3 1 1 1 1 1 1 1 1 1 1 1 2 2 2 2\n",
      " 2 2 4 4 4 4 4 4 2 2 2 2 2 0 3 3 3 3 3 3 3 3 3 2 2 2 2 2 3 3 2 2 1 0 1 3 1\n",
      " 1 1 1 0 0 0 0 4 4 4 4 4 4 4 0 0 0 0 0 0 4 4 4 4 4 4 2 4 4 4 4 4 4 4 4 4 4\n",
      " 4 4 4 4 2 4 4 4 0 0 0 0 4 4 4 0 0 3 1 1 1 3 3 3 1 1 1 1 1 1 1 2 2 2 2 2 2\n",
      " 2 2 2 2 3 3 3 2 3 3 3 0 0 0 0 0 0 0 0 0 0 0 0 1 1 1 1 1 1 3 3 1 0 0 0 0 0\n",
      " 0 0 0 0 0 0 0 0 0 4 0 1 1 0 0 0 2 2 2 4 4 2 2 4 4 3 3 3 3 3 3 3 3 2 2 2 2\n",
      " 2 4 4 4 4 3 3 3 3 4 4 4 4 4 4 4 4 0 0 0 0 0 0 0 0 0 0 0 0 0 0 0 0 0 0 0 0\n",
      " 0 0 3 3 3 3 3 3 3 3 2 2 2 3 3 3 2 1 1 1 1 1 1 1 1 1 4 4 4 4 4 4 0 4 4 4 2\n",
      " 4 2 2 2 4 4 4 4 4 4 0 0 0 0 0 0 0 0 0 0 0 0 0 0 0 0 0 0 0 0 1 1 1 1 1 1 1\n",
      " 1 1 1 1 3 3 3 3 3 3 3 3 3 2 2 2 2 2 2 4 4 4 4 3 3 3 3 3 3 3 3 3 3 2 2 2 2\n",
      " 2 4 4 4 4 0 0 0 0 0 0 4 4 4 4 4 4 4 4 4 4 4 4 2 2 2 2 3 3 2 0 4 2 2 2 2 2\n",
      " 2 1 1 1 1 1 1 1 3 1 3 3 3 4 4 0 0 4 4 4 4 4 4 4 4 4 4 4 4 4 4 0 0 0 0 0 0\n",
      " 0 0 0 0 0 0 0 0 0 0 0 0 0 0 0 2 2 2 2 3 3 3 2 4 4 4 4 4 2 2 2 2 4 1 1 1 1\n",
      " 1 1 1 1 1 1 1 1 3 3 1 3 3 0 0 0 0 0 0 0 0 0 0 0 0 0 4 4 4 4 0 0 0 4 0 0 4\n",
      " 4]\n"
     ]
    },
    {
     "data": {
      "image/png": "[encoded data removed]",
      "text/plain": [
       "<matplotlib.figure.Figure at 0x111f88a20>"
      ]
     },
     "metadata": {},
     "output_type": "display_data"
    }
   ],
   "source": [
    "N_CLUSTERS = 5 #labels為群0-群4\n",
    "kmeans = KMeans(n_clusters=N_CLUSTERS)\n",
    "kmeans.fit(df_p)\n",
    "\n",
    "print(kmeans.labels_)\n",
    "plt.hist(kmeans.labels_,bins=[0,1, 2, 3, 4,5])\n",
    "plt.show()"
   ]
  },
  {
   "cell_type": "markdown",
   "metadata": {
    "collapsed": true
   },
   "source": [
    "### 總結\n",
    "1. 補值的方法也不能全部補平均值，像是類別變數轉為虛擬變數補進平均值沒有意義；<p>\n",
    "2. 分群後可以將同一群的再進行資料探索，可能可找到顯著差異，再依序建多個模型。<p>"
   ]
  }
 ],
 "metadata": {
  "kernelspec": {
   "display_name": "Python 3",
   "language": "python",
   "name": "python3"
  },
  "language_info": {
   "codemirror_mode": {
    "name": "ipython",
    "version": 3
   },
   "file_extension": ".py",
   "mimetype": "text/x-python",
   "name": "python",
   "nbconvert_exporter": "python",
   "pygments_lexer": "ipython3",
   "version": "3.6.2"
  }
 },
 "nbformat": 4,
 "nbformat_minor": 2
}
