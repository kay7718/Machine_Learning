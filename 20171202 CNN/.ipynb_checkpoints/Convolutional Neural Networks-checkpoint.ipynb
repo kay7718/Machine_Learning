{
 "cells": [
  {
   "cell_type": "markdown",
   "metadata": {
    "collapsed": true
   },
   "source": [
    "# Convolutional Neural Networks<hr>"
   ]
  },
  {
   "cell_type": "markdown",
   "metadata": {},
   "source": [
    "## 卷積神經網路（Convolutional Neural Networks，CNN）\n",
    "在這個章節中，我們將學習：\n",
    "#### 什麼是卷積神經網路（Convolutional Neural Networks，CNN），比較類神經網路和人腦的圖像辨識。\n",
    "#### 分成幾個部份去將卷積類神經網路進行拆解，課程將**卷積神經網路（Convolutional Neural Networks，CNN）** 拆成四個步驟，其中第一個部分又分成兩個部分：\n",
    "+ Step1 **Convolution Operation(卷積運算)**：其中包含**feature detectors(特徵檢測器)**，**filters(濾波器)**，**feature maps(特徵圖)**。<br>\n",
    "+ Step1(B) **RELU-Layer(線性整流單元層)**：介紹**Rectified Linear Unit(線性整流單元 &ensp; RELU)**並且討論圖像辨識(image recognition)為什麼需要非線性的過程。<br>\n",
    "+ Step2 **Pooling(池化)**：介紹什麼是池化以及為什麼需要池化?<br>\n",
    "+ Step3 **Flattening(平化)**：介紹平化的觀念。<br>\n",
    "+ Step4 **Full Connection(全連結)**：介紹全連結層（fully connected layers）的觀念。<br>\n",
    "最後課程中進行了彙總和補充的&ensp; **Softmax** &ensp; 與 &ensp; **Cross-Entropy**。<hr>\n",
    "\n"
   ]
  },
  {
   "cell_type": "markdown",
   "metadata": {},
   "source": [
    "### what are convolutional neural networks?"
   ]
  },
  {
   "cell_type": "markdown",
   "metadata": {},
   "source": [
    "![](images/CNN1_1.PNG)\n",
    "首先，這是一張人臉圖，當你用曲線右邊去看這張圖，你會認為這是面對右邊的人在斜眼看你，如果用左邊來看，你會覺得是一個人在面對你，在人腦處理圖像或影像的時候，是根據看到的特徵去做辨識，這就是人腦在辨識一張圖的邏輯，你不會接收全部的資訊，你會被部分特徵所吸引下判斷，而找尋特徵去做辨識就是圖像辨識的概念。<br>\n",
    "卷積神經網路（Convolutional Neural Networks，CNN）最簡單的運作架構如圖所示：<br>\n",
    "![](images/CNN1.PNG)\n",
    "輸入了一張圖像，透過CNN獲得標籤(Label)，輸出圖像的分類。\n",
    "![](images/CNN2.PNG)\n",
    "還有一個臉部表情與動作的例子，給CNN一個真實微笑的人的圖像，他會辦別這個人是開心的，而給一張皺著眉頭的臉就判斷她心情差，CNN可以辨識情感，根據提取到的特徵去進行辨識。\n",
    "![](images/CNN3.PNG)\n",
    "用一個基本程度的例子說明如何辨識這些特徵\n",
    "有兩張圖像，一張是黑白像素也被稱為[灰階](https://zh.wikipedia.org/wiki/%E7%81%B0%E5%BA%A6%E5%9B%BE%E5%83%8F)(Gray scale)的2$*$2的2維陣列的圖像，一張是彩色圖像也被稱為RGB及CMYK，這裡講的是[RGB圖像](https://zh.wikipedia.org/wiki/%E6%95%B0%E5%AD%97%E5%9B%BE%E5%83%8F)而每一個的像素是介於0到255之間，共256階。<br>\n",
    "<span style=\"color:red\">補充</span> ：\n",
    "+ 灰階（Gray scale）：用於顯示的灰階圖像通常用每個採樣像素8 bit來保存，這樣可以有256種灰階（8bits就是2的8次方=256），每個點由從 0 (黑色)到 255 (白色)的亮度值來表現，其中間的值來表現不同程度的灰。\n",
    "+ RGB 圖像：代表紅(Red)-綠(Ggreen)-藍(Blue)也就是色光三原色，代表圖像上的每個點用一個「紅色」色階，一個「綠色」色階和一個「藍色」色階表示。人類能辨別的每種顏色都能用紅，綠和藍組合來表現，每一個顏色通道都有 256 種可能的亮度程度。\n",
    "灰度圖像和RGB 圖像最本質的區別就是它們「<span style=\"color:red\">顏色</span> 」的數量：一個灰度圖像只有一個；一個 RGB 圖像有三個。一個 RGB 圖像可以認為是三個灰度圖像的疊加，一個為紅色，一個為綠色，另一個為藍色。\n",
    "![](images/CNN4.PNG)\n",
    "笑臉圖可以轉換成計算機術語表示，而在這邊先忽略灰階，用最簡單的方式表達，黑色用1表示，白色用0表示，就會變成第三張圖，接下來我們會利用第三張圖的部份去當作我們CNN的輸入圖像。"
   ]
  },
  {
   "cell_type": "markdown",
   "metadata": {},
   "source": [
    "### 卷積類神經網路拆解：\n",
    "+ Step1 **Convolution Operation(卷積運算)**<br>\n",
    "+ Step1(B) **RELU-Layer(線性整流單元層)**<br>\n",
    "+ Step2 **Pooling(池化)**<br>\n",
    "+ Step3 **Flattening(平化)**<br>\n",
    "+ Step4 **Full Connection(全連結)**<br>\n",
    "### Step1 **Convolution Operation(卷積運算)**"
   ]
  },
  {
   "cell_type": "code",
   "execution_count": null,
   "metadata": {},
   "outputs": [],
   "source": []
  },
  {
   "cell_type": "code",
   "execution_count": 2,
   "metadata": {},
   "outputs": [],
   "source": [
    "# Part 1 - Building the CNN\n",
    "\n",
    "# Importing the Keras libraries and packages\n",
    "from keras.models import Sequential\n",
    "from keras.layers import Conv2D\n",
    "from keras.layers import MaxPooling2D\n",
    "from keras.layers import Flatten\n",
    "from keras.layers import Dense"
   ]
  },
  {
   "cell_type": "code",
   "execution_count": null,
   "metadata": {},
   "outputs": [],
   "source": []
  }
 ],
 "metadata": {
  "kernelspec": {
   "display_name": "Python 3",
   "language": "python",
   "name": "python3"
  },
  "language_info": {
   "codemirror_mode": {
    "name": "ipython",
    "version": 3
   },
   "file_extension": ".py",
   "mimetype": "text/x-python",
   "name": "python",
   "nbconvert_exporter": "python",
   "pygments_lexer": "ipython3",
   "version": "3.5.4"
  }
 },
 "nbformat": 4,
 "nbformat_minor": 2
}
